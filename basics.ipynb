{
 "cells": [
  {
   "cell_type": "code",
   "execution_count": 2,
   "metadata": {},
   "outputs": [
    {
     "name": "stdout",
     "output_type": "stream",
     "text": [
      "print five\n"
     ]
    }
   ],
   "source": [
    "a=5\n",
    "if a == 5:\n",
    "    print(\"print five\")\n",
    "elif a == 1:\n",
    "    print(\"one\")    \n",
    "else:\n",
    "    print(\"not 5\")    "
   ]
  },
  {
   "cell_type": "code",
   "execution_count": 5,
   "metadata": {},
   "outputs": [
    {
     "name": "stdout",
     "output_type": "stream",
     "text": [
      "Wednesday\n"
     ]
    }
   ],
   "source": [
    "#based on the user input print the corresponding day of the week if 1->sunday, if 2->monday..else\n",
    "\n",
    "\n",
    "\n",
    "userinput = int(input(\"enter a number 1 for sunday,2 for monday,etc:\"))\n",
    "if userinput == 1:\n",
    "    print(\"Sunday\")\n",
    "elif userinput == 2:\n",
    "    print(\"Monday\")   \n",
    "elif userinput == 3:\n",
    "    print(\"Tuesday\") \n",
    "elif userinput == 4:\n",
    "    print(\"Wednesday\")\n",
    "elif userinput == 5:\n",
    "    print(\"Thursday\") \n",
    "elif userinput == 6:\n",
    "    print(\"Friday\") \n",
    "elif userinput == 7:\n",
    "    print(\"sunday\")  \n",
    "else:\n",
    "    print(\"not a day of the week\")    "
   ]
  },
  {
   "cell_type": "code",
   "execution_count": 7,
   "metadata": {},
   "outputs": [],
   "source": [
    "#Strings\n",
    "\n",
    "\n",
    "msg= \"this is a message\""
   ]
  },
  {
   "cell_type": "code",
   "execution_count": 8,
   "metadata": {},
   "outputs": [
    {
     "data": {
      "text/plain": [
       "str"
      ]
     },
     "execution_count": 8,
     "metadata": {},
     "output_type": "execute_result"
    }
   ],
   "source": [
    "type(msg) #this is a commentt"
   ]
  },
  {
   "cell_type": "code",
   "execution_count": 9,
   "metadata": {},
   "outputs": [
    {
     "data": {
      "text/plain": [
       "'i'"
      ]
     },
     "execution_count": 9,
     "metadata": {},
     "output_type": "execute_result"
    }
   ],
   "source": [
    "msg[5] # to access an individual character at a position\n"
   ]
  },
  {
   "cell_type": "code",
   "execution_count": 11,
   "metadata": {},
   "outputs": [
    {
     "data": {
      "text/plain": [
       "11"
      ]
     },
     "execution_count": 11,
     "metadata": {},
     "output_type": "execute_result"
    }
   ],
   "source": [
    "len(msg)\n",
    "len(\"selina lana\")"
   ]
  },
  {
   "cell_type": "code",
   "execution_count": 12,
   "metadata": {},
   "outputs": [
    {
     "name": "stdout",
     "output_type": "stream",
     "text": [
      "17\n",
      "11\n"
     ]
    }
   ],
   "source": [
    "print(len(msg))\n",
    "print(len('selina lana'))"
   ]
  },
  {
   "cell_type": "code",
   "execution_count": 13,
   "metadata": {},
   "outputs": [
    {
     "name": "stdout",
     "output_type": "stream",
     "text": [
      "t\n",
      "h\n",
      "i\n",
      "s\n",
      " \n",
      "i\n",
      "s\n",
      " \n",
      "a\n",
      " \n",
      "m\n",
      "e\n",
      "s\n",
      "s\n",
      "a\n",
      "g\n",
      "e\n"
     ]
    }
   ],
   "source": [
    "for i in msg:\n",
    "    print(i)"
   ]
  },
  {
   "cell_type": "code",
   "execution_count": 14,
   "metadata": {},
   "outputs": [
    {
     "data": {
      "text/plain": [
       "'THIS IS A MESSAGE'"
      ]
     },
     "execution_count": 14,
     "metadata": {},
     "output_type": "execute_result"
    }
   ],
   "source": [
    "msg.upper()"
   ]
  },
  {
   "cell_type": "code",
   "execution_count": 15,
   "metadata": {},
   "outputs": [
    {
     "data": {
      "text/plain": [
       "'this is a message'"
      ]
     },
     "execution_count": 15,
     "metadata": {},
     "output_type": "execute_result"
    }
   ],
   "source": [
    "msg.lower()"
   ]
  },
  {
   "cell_type": "code",
   "execution_count": 16,
   "metadata": {},
   "outputs": [
    {
     "data": {
      "text/plain": [
       "'this is a message'"
      ]
     },
     "execution_count": 16,
     "metadata": {},
     "output_type": "execute_result"
    }
   ],
   "source": [
    "msg"
   ]
  },
  {
   "cell_type": "code",
   "execution_count": 17,
   "metadata": {},
   "outputs": [
    {
     "name": "stdout",
     "output_type": "stream",
     "text": [
      "THIS IS A MESSAGE\n",
      "this is a message\n",
      "THIS IS A MESSAGE\n"
     ]
    }
   ],
   "source": [
    "print(msg.upper())\n",
    "print(msg.lower())\n",
    "print(msg.swapcase())\n"
   ]
  },
  {
   "cell_type": "code",
   "execution_count": null,
   "metadata": {},
   "outputs": [],
   "source": [
    "strip()split()format()"
   ]
  },
  {
   "cell_type": "code",
   "execution_count": 19,
   "metadata": {},
   "outputs": [
    {
     "name": "stdout",
     "output_type": "stream",
     "text": [
      "<class 'str'>\n"
     ]
    }
   ],
   "source": [
    "name = \" abc \"\n",
    "print(type(name))"
   ]
  },
  {
   "cell_type": "code",
   "execution_count": 20,
   "metadata": {},
   "outputs": [
    {
     "name": "stdout",
     "output_type": "stream",
     "text": [
      "5\n",
      "3\n"
     ]
    }
   ],
   "source": [
    "print(len(name))\n",
    "print(len(name.strip()))"
   ]
  },
  {
   "cell_type": "code",
   "execution_count": 26,
   "metadata": {},
   "outputs": [
    {
     "name": "stdout",
     "output_type": "stream",
     "text": [
      "['2', '3', '5', '7', '2', '8']\n"
     ]
    }
   ],
   "source": [
    "numbers = \"2,3,5,7,2,8\"\n",
    "print(numbers.split(','))"
   ]
  },
  {
   "cell_type": "code",
   "execution_count": 27,
   "metadata": {},
   "outputs": [
    {
     "name": "stdout",
     "output_type": "stream",
     "text": [
      "2\n",
      "5\n",
      "10\n",
      "17\n",
      "19\n",
      "27\n"
     ]
    }
   ],
   "source": [
    "numbers = \"2,3,5,7,2,8\"\n",
    "nos = numbers.split(',')\n",
    "sum = 0\n",
    "for item in nos:\n",
    "    sum =sum+int(item)\n",
    "    print(sum)"
   ]
  },
  {
   "cell_type": "code",
   "execution_count": 28,
   "metadata": {},
   "outputs": [
    {
     "name": "stdout",
     "output_type": "stream",
     "text": [
      "['2', '3', '5', '7', '2', '8']\n",
      "2 <class 'type'> 2 2 <class 'type'> 2\n",
      "3 <class 'type'> 3 3 <class 'type'> 3\n",
      "5 <class 'type'> 5 5 <class 'type'> 5\n",
      "7 <class 'type'> 7 7 <class 'type'> 7\n",
      "2 <class 'type'> 2 2 <class 'type'> 2\n",
      "8 <class 'type'> 8 8 <class 'type'> 8\n"
     ]
    }
   ],
   "source": [
    "numbers = \"2,3,5,7,2,8\"\n",
    "nos = numbers.split(',')\n",
    "print(nos)\n",
    "for item in nos:\n",
    "    temp = int(item)\n",
    "    print(item,type,item,temp,type,temp)"
   ]
  },
  {
   "cell_type": "code",
   "execution_count": 30,
   "metadata": {},
   "outputs": [
    {
     "name": "stdout",
     "output_type": "stream",
     "text": [
      "['2', '3', '5', '7', '2', '8']\n",
      "2 <class 'type'> 2 2 <class 'type'> 2\n",
      "2\n",
      "3 <class 'type'> 3 3 <class 'type'> 3\n",
      "5\n",
      "5 <class 'type'> 5 5 <class 'type'> 5\n",
      "10\n",
      "7 <class 'type'> 7 7 <class 'type'> 7\n",
      "17\n",
      "2 <class 'type'> 2 2 <class 'type'> 2\n",
      "19\n",
      "8 <class 'type'> 8 8 <class 'type'> 8\n",
      "27\n"
     ]
    }
   ],
   "source": [
    "numbers = \"2,3,5,7,2,8\"\n",
    "nos = numbers.split(',')\n",
    "print(nos)\n",
    "sum=0\n",
    "for item in nos:\n",
    "    temp = int(item)\n",
    "    sum = sum + temp\n",
    "    print(item,type,item,temp,type,temp)\n",
    "    print(sum)"
   ]
  },
  {
   "cell_type": "code",
   "execution_count": 33,
   "metadata": {},
   "outputs": [
    {
     "name": "stdout",
     "output_type": "stream",
     "text": [
      "your user name:lana and password entered is:(christuni\n"
     ]
    }
   ],
   "source": [
    "name = input(\"Enter user name\")\n",
    "password = input(\"Enter the password\")\n",
    "\n",
    "print(\"your user name:{} and password entered is:({}\".format(name,password))"
   ]
  },
  {
   "cell_type": "code",
   "execution_count": 37,
   "metadata": {},
   "outputs": [
    {
     "name": "stdout",
     "output_type": "stream",
     "text": [
      "10\n",
      "12\n",
      "14\n",
      "16\n",
      "18\n",
      "20\n"
     ]
    }
   ],
   "source": [
    "for i in range(10,20+1,2):\n",
    "    print (i)"
   ]
  },
  {
   "cell_type": "code",
   "execution_count": 42,
   "metadata": {},
   "outputs": [
    {
     "name": "stdout",
     "output_type": "stream",
     "text": [
      "the sum of n multiples of 2 is:2\n",
      "the sum of n multiples of 2 is:4\n",
      "the sum of n multiples of 2 is:6\n",
      "the sum of n multiples of 2 is:8\n"
     ]
    }
   ],
   "source": [
    "#find the sum of n multiples of 2, where n is user input\n",
    "\n",
    "n=int(input(\"enter the value of n\"))\n",
    "sum=0\n",
    "for i in range(1,n+1):\n",
    "    multiple =2 * i\n",
    "    sum = multiple\n",
    "    print(f\"the sum of n multiples of 2 is:{multiple}\")"
   ]
  },
  {
   "cell_type": "code",
   "execution_count": 43,
   "metadata": {},
   "outputs": [
    {
     "name": "stdout",
     "output_type": "stream",
     "text": [
      "['one', 'two,', 'three', 'four']\n"
     ]
    }
   ],
   "source": [
    "#list\n",
    "\n",
    "listex = [\"one\",\"two,\",\"three\",\"four\"]\n",
    "print(listex)"
   ]
  },
  {
   "cell_type": "code",
   "execution_count": 44,
   "metadata": {},
   "outputs": [
    {
     "name": "stdout",
     "output_type": "stream",
     "text": [
      "four\n"
     ]
    }
   ],
   "source": [
    "print(listex[3])"
   ]
  },
  {
   "cell_type": "code",
   "execution_count": 45,
   "metadata": {},
   "outputs": [
    {
     "name": "stdout",
     "output_type": "stream",
     "text": [
      "Success\n"
     ]
    }
   ],
   "source": [
    "if \"three\" in listex:\n",
    "    print(\"Success\")"
   ]
  },
  {
   "cell_type": "code",
   "execution_count": 46,
   "metadata": {},
   "outputs": [],
   "source": [
    "if \"Three\" in listex:\n",
    "    print(\"Success\")\n",
    "\n",
    "\n",
    "\n",
    "    #no output because it is case sensitive"
   ]
  },
  {
   "cell_type": "code",
   "execution_count": 48,
   "metadata": {},
   "outputs": [
    {
     "name": "stdout",
     "output_type": "stream",
     "text": [
      "['one', 'two,', 'three', 'four', 'five']\n"
     ]
    }
   ],
   "source": [
    "\n",
    "listex.append(\"five\")\n",
    "print(listex)\n",
    "     "
   ]
  },
  {
   "cell_type": "code",
   "execution_count": 49,
   "metadata": {},
   "outputs": [
    {
     "data": {
      "text/plain": [
       "'five'"
      ]
     },
     "execution_count": 49,
     "metadata": {},
     "output_type": "execute_result"
    }
   ],
   "source": [
    "listex.pop()\n",
    "\n",
    "\n",
    "#pop removes the last function from the end\n",
    "#in pop we specify the index"
   ]
  },
  {
   "cell_type": "code",
   "execution_count": 50,
   "metadata": {},
   "outputs": [
    {
     "data": {
      "text/plain": [
       "['one', 'two,', 'three', 'four']"
      ]
     },
     "execution_count": 50,
     "metadata": {},
     "output_type": "execute_result"
    }
   ],
   "source": [
    "listex"
   ]
  },
  {
   "cell_type": "code",
   "execution_count": 52,
   "metadata": {},
   "outputs": [
    {
     "data": {
      "text/plain": [
       "['two,', 'three', 'four']"
      ]
     },
     "execution_count": 52,
     "metadata": {},
     "output_type": "execute_result"
    }
   ],
   "source": [
    "listex.remove(\"one\")\n",
    "listex\n",
    "\n",
    "#in remove we specify the item"
   ]
  },
  {
   "cell_type": "code",
   "execution_count": null,
   "metadata": {},
   "outputs": [],
   "source": [
    "sort() | reverse()\n",
    "\n",
    "#sort will sort the list and reverse will reverse the list"
   ]
  },
  {
   "cell_type": "markdown",
   "metadata": {},
   "source": [
    "Functions"
   ]
  },
  {
   "cell_type": "code",
   "execution_count": 63,
   "metadata": {},
   "outputs": [],
   "source": [
    "def fname(n):\n",
    "    print(\"I am your first function..\",n)\n",
    "    retVal = \"Success\"\n",
    "    return retVal, True"
   ]
  },
  {
   "cell_type": "code",
   "execution_count": 64,
   "metadata": {},
   "outputs": [
    {
     "name": "stdout",
     "output_type": "stream",
     "text": [
      "I am your first function.. Lana\n",
      "Success True\n"
     ]
    }
   ],
   "source": [
    "name = \"Lana\"\n",
    "status, flag = fname(name)\n",
    "print(status, flag)"
   ]
  },
  {
   "cell_type": "code",
   "execution_count": 72,
   "metadata": {},
   "outputs": [
    {
     "name": "stdout",
     "output_type": "stream",
     "text": [
      "25\n"
     ]
    }
   ],
   "source": [
    "#define a function that takes in a list of numbers and return the sum of numbers without any predefined functions\n",
    "\n",
    "\n",
    "def sumlist(lst):\n",
    "    sum = 0\n",
    "    for i in lst:\n",
    "        sum =sum+i\n",
    "    return sum\n",
    "a = sumlist([1,3,5,7,9])\n",
    "print(a)\n"
   ]
  },
  {
   "cell_type": "code",
   "execution_count": 81,
   "metadata": {},
   "outputs": [
    {
     "name": "stdout",
     "output_type": "stream",
     "text": [
      "390\n"
     ]
    }
   ],
   "source": [
    "#define a function that takes in a list of numbers and return the sum of numbers without any predefined functions\n",
    "\n",
    "lst = [10,30,50,60,70,80,90]\n",
    "sum = 0\n",
    "for  i in lst:\n",
    "    sum = sum+i  \n",
    "print(sum)\n"
   ]
  },
  {
   "cell_type": "code",
   "execution_count": 78,
   "metadata": {},
   "outputs": [
    {
     "name": "stdout",
     "output_type": "stream",
     "text": [
      "10\n",
      "20\n",
      "30\n",
      "40\n",
      "50\n",
      "60\n",
      "70\n"
     ]
    }
   ],
   "source": [
    "#define a function that takes in a list of numbers and return the sum of numbers without any predefined functions\n",
    "\n",
    "lst = [10,20,30,40,50,60,70]\n",
    "for i in lst:\n",
    "    print(i)"
   ]
  },
  {
   "cell_type": "markdown",
   "metadata": {},
   "source": [
    "sum += item is same as sum=sum+item (it is just a short hand notation)"
   ]
  },
  {
   "cell_type": "code",
   "execution_count": 88,
   "metadata": {},
   "outputs": [
    {
     "name": "stdout",
     "output_type": "stream",
     "text": [
      "Sum is: 20\n"
     ]
    }
   ],
   "source": [
    "def sumlistfn(lst):\n",
    "    sum = 0\n",
    "    #to sum the numbers in the list\n",
    "    for item in lst:\n",
    "        sum = sum + int(item)\n",
    "    return sum\n",
    "userinput = input(\"enter a list of numbers separated by commas\")\n",
    "array = userinput.strip().split(',')\n",
    "sum = sumlistfn(array)\n",
    "print(\"Sum is:\",sum)"
   ]
  },
  {
   "cell_type": "markdown",
   "metadata": {},
   "source": [
    "Count the number of odd and even numbers in the list and print the odd numbers count and even numbers count along with the numbers\n",
    "You will have a function that will take a list of numbers,then returns the count of add numbers and even numbers and the new list of odd numbers and even numbers\n"
   ]
  },
  {
   "cell_type": "code",
   "execution_count": 98,
   "metadata": {},
   "outputs": [
    {
     "name": "stdout",
     "output_type": "stream",
     "text": [
      "count of odd number is 2\n",
      "count of even number is 1\n"
     ]
    }
   ],
   "source": [
    "def odd_even(numbers):\n",
    "    odd = []\n",
    "    even = []\n",
    "    for num in numbers:\n",
    "        if int(num) % 2 == 0:\n",
    "            even.append(i)\n",
    "        else:\n",
    "            odd.append(i)\n",
    "    return odd,even\n",
    "numbers = input(\"enter a list of numbers separated by commas\").split(\",\")\n",
    "odd,even = odd_even(numbers)\n",
    "print(\"count of odd number is\",len(odd))\n",
    "print(\"count of even number is\",len(even))\n",
    "\n"
   ]
  },
  {
   "cell_type": "markdown",
   "metadata": {},
   "source": []
  }
 ],
 "metadata": {
  "kernelspec": {
   "display_name": "Python 3",
   "language": "python",
   "name": "python3"
  },
  "language_info": {
   "codemirror_mode": {
    "name": "ipython",
    "version": 3
   },
   "file_extension": ".py",
   "mimetype": "text/x-python",
   "name": "python",
   "nbconvert_exporter": "python",
   "pygments_lexer": "ipython3",
   "version": "3.11.4"
  },
  "orig_nbformat": 4
 },
 "nbformat": 4,
 "nbformat_minor": 2
}
