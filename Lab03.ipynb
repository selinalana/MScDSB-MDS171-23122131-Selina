{
 "cells": [
  {
   "cell_type": "code",
   "execution_count": 33,
   "metadata": {},
   "outputs": [
    {
     "name": "stdout",
     "output_type": "stream",
     "text": [
      "542.94\n",
      "(17, 999)\n",
      "982\n"
     ]
    }
   ],
   "source": [
    "def mean(number):\n",
    "     \n",
    "    total = 0\n",
    "    count = 0\n",
    "    for i in number:\n",
    "        total=total+i\n",
    "        count=count+1\n",
    "   \n",
    "    mean = total / count\n",
    "    return mean\n",
    "\n",
    "def stats(number):\n",
    "    total = 0\n",
    "    count = 0\n",
    " \n",
    "    min = number[0]\n",
    "    max = number[0]\n",
    "    for i in number:\n",
    "            total = total+i\n",
    "            count = count+1\n",
    "            if i< min:\n",
    "                min = i\n",
    "            elif i> max:\n",
    "                max = i\n",
    "    return min,max  \n",
    "def range(numbers):\n",
    "    total = 0\n",
    "    count = 0\n",
    "    \n",
    "    min = numbers[0]\n",
    "    max = numbers[0]\n",
    "    for i in numbers:\n",
    "                total = total+i\n",
    "                count = count+1\n",
    "                if i< min:\n",
    "                    min = i\n",
    "                elif i> max:\n",
    "                    max = i\n",
    "    range=max-min            \n",
    "    return range\n",
    "               \n",
    "\n",
    "list=[761, 123, 585, 275, 194, 840, 999, 622, 763, 40, 825, 687, 402, 338, 611, 987, 739, 95, 819, 568, 320, 126, 688, 948, 514, 223, 751, 379, 857, 767, 492, 162, 437, 934, 430, 343, 725, 511, 580, 678, 708, 823, 346, 179, 786, 663, 195, 890, 267, 502, 214, 300, 786, 961, 235, 559, 992, 919, 948, 318, 57, 787, 653, 317, 305, 172, 966, 182, 970, 17, 89, 624, 629, 595, 485, 752, 984, 978, 460, 124, 321, 256, 614, 852, 811, 561, 127, 207, 406, 615, 888, 391, 691, 470, 911, 401, 137, 600, 478, 682]\n",
    "print(mean(list))\n",
    "print(stats(list))\n",
    "print(range(list))\n",
    "\n"
   ]
  },
  {
   "cell_type": "code",
   "execution_count": null,
   "metadata": {},
   "outputs": [],
   "source": []
  }
 ],
 "metadata": {
  "kernelspec": {
   "display_name": "Python 3",
   "language": "python",
   "name": "python3"
  },
  "language_info": {
   "codemirror_mode": {
    "name": "ipython",
    "version": 3
   },
   "file_extension": ".py",
   "mimetype": "text/x-python",
   "name": "python",
   "nbconvert_exporter": "python",
   "pygments_lexer": "ipython3",
   "version": "3.11.4"
  },
  "orig_nbformat": 4
 },
 "nbformat": 4,
 "nbformat_minor": 2
}
