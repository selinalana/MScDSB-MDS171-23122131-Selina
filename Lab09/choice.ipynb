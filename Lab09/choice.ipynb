{
 "cells": [
  {
   "cell_type": "code",
   "execution_count": 2,
   "metadata": {},
   "outputs": [
    {
     "name": "stdout",
     "output_type": "stream",
     "text": [
      "\n",
      "Options:\n",
      "1. Add Pet\n",
      "2. List pet\n",
      "3. Search pet\n",
      "4. Sell pet\n",
      "5. Quit\n",
      "Details has been entred\n",
      "\n",
      "Options:\n",
      "1. Add Pet\n",
      "2. List pet\n",
      "3. Search pet\n",
      "4. Sell pet\n",
      "5. Quit\n",
      "[{'name': 'lucy', 'age': '2', 'breed': 'tibitten mastiff', 'price': '56000'}]\n",
      "<petstore.petstore object at 0x0000020CBB7FF010>\n",
      "\n",
      "Options:\n",
      "1. Add Pet\n",
      "2. List pet\n",
      "3. Search pet\n",
      "4. Sell pet\n",
      "5. Quit\n",
      "{'name': 'lucy', 'age': '2', 'breed': 'tibitten mastiff', 'price': '56000'}\n",
      "\n",
      "Options:\n",
      "1. Add Pet\n",
      "2. List pet\n",
      "3. Search pet\n",
      "4. Sell pet\n",
      "5. Quit\n",
      "{'name': 'lucy', 'age': '2', 'breed': 'tibitten mastiff', 'price': '56000'}the pet has been removed\n",
      "\n",
      "Options:\n",
      "1. Add Pet\n",
      "2. List pet\n",
      "3. Search pet\n",
      "4. Sell pet\n",
      "5. Quit\n"
     ]
    }
   ],
   "source": [
    "import petstore\n",
    "pt=petstore.petstore()\n",
    "\n",
    "while(True):\n",
    "    print(\"\\nOptions:\")\n",
    "    print(\"1. Add Pet\")\n",
    "    print(\"2. List pet\") \n",
    "    print(\"3. Search pet\")\n",
    "    print(\"4. Sell pet\")\n",
    "    print(\"5. Quit\")\n",
    "\n",
    "    choice=input(\"Enter your choice\")\n",
    "    if choice==\"1\":\n",
    "        name= input (\"enter the pet name\")\n",
    "        age=input (\"enter the age of the pet\")\n",
    "        breed=input (\"enter the breed of the pet\")\n",
    "        price =input(\"enter the price of the pet\")\n",
    "        pt.add_pet(name,age,breed,price)\n",
    "        print(\"Details has been entred\")\n",
    "    elif choice==\"2\":\n",
    "        pt.list_pet()\n",
    "        print(pt)\n",
    "    elif choice==\"3\":\n",
    "        name=input(\"enter the name to be search\")\n",
    "        pt.search_pet(name)\n",
    "    elif choice==\"4\":\n",
    "        name=input(\"enter the name to be sold\")\n",
    "        pt.remove_pet(name)\n",
    "    elif choice == \"5\":\n",
    "        break\n",
    "    else:\n",
    "        print(\"Invalid choice. Please try again.\")"
   ]
  }
 ],
 "metadata": {
  "kernelspec": {
   "display_name": "Python 3",
   "language": "python",
   "name": "python3"
  },
  "language_info": {
   "codemirror_mode": {
    "name": "ipython",
    "version": 3
   },
   "file_extension": ".py",
   "mimetype": "text/x-python",
   "name": "python",
   "nbconvert_exporter": "python",
   "pygments_lexer": "ipython3",
   "version": "3.11.4"
  },
  "orig_nbformat": 4
 },
 "nbformat": 4,
 "nbformat_minor": 2
}
