{
 "cells": [
  {
   "cell_type": "code",
   "execution_count": 1,
   "metadata": {},
   "outputs": [],
   "source": [
    "# restuarant\n",
    "# customers -> orders (Menu items)\n",
    "# collecting orders\n",
    "# billing\n",
    "# print bill\n",
    "# update order\n",
    "# search for an order\n",
    "import random\n",
    "\n",
    "class restuarant:\n",
    "    def __init__(self):\n",
    "        self.menu={\n",
    "            \"itemname\": \"rice\",\n",
    "            \"price\":30\n",
    "    }\n",
    "        #orderid : { set of order details}\n",
    "        self.orders={}\n",
    "\n",
    "    def printMenu(self):\n",
    "        print(\"*\"*30)\n",
    "        print(\"The current options in the menu are:\")\n",
    "        print(\"*\"*30)\n",
    "        print(self.menu)\n",
    "        print(\"*\"*30)\n",
    "\n",
    "    def generateOrderid(self):\n",
    "        orderid = \"\"\n",
    "        for i in range(1,6,1):\n",
    "            orderid=str(random.randint(i,10))\n",
    "        return orderid\n",
    "\n",
    "    def collectOrder(self):\n",
    "        self.printMenu()\n",
    "        phone = int(input(\"Enter customer phone number\"))\n",
    "        order = {}\n",
    "        while True:\n",
    "            item = input(\"Enter the item name you want to order:\").strip().title()\n",
    "            qty = int(input(\"Enter the quantity of the items:\"))\n",
    "            order[item] = qty\n",
    "            choice= input(\"Do you want to complete order ? 'Y' \")\n",
    "            if choice == \"Y\":\n",
    "                break\n",
    "            orderid = self.generateOrderid()\n",
    "            self.orders[orderid]= {\n",
    "                \"Phone\":phone,\n",
    "                \"Order\":order\n",
    "            }\n",
    "        #print menu\n",
    "        # ask user to enter the value\n",
    "        # collect the value and update the order\n",
    "        # print th order\n",
    "        print(self.orders)  \n",
    "\n"
   ]
  },
  {
   "cell_type": "code",
   "execution_count": 2,
   "metadata": {},
   "outputs": [],
   "source": [
    "\n",
    "obj=restuarant()"
   ]
  },
  {
   "cell_type": "code",
   "execution_count": 3,
   "metadata": {},
   "outputs": [
    {
     "name": "stdout",
     "output_type": "stream",
     "text": [
      "******************************\n",
      "The current options in the menu are:\n",
      "******************************\n",
      "{'itemname': 'rice', 'price': 30}\n",
      "******************************\n",
      "{}\n"
     ]
    }
   ],
   "source": [
    "obj.collectOrder()"
   ]
  },
  {
   "cell_type": "code",
   "execution_count": null,
   "metadata": {},
   "outputs": [],
   "source": []
  }
 ],
 "metadata": {
  "kernelspec": {
   "display_name": "Python 3",
   "language": "python",
   "name": "python3"
  },
  "language_info": {
   "codemirror_mode": {
    "name": "ipython",
    "version": 3
   },
   "file_extension": ".py",
   "mimetype": "text/x-python",
   "name": "python",
   "nbconvert_exporter": "python",
   "pygments_lexer": "ipython3",
   "version": "3.11.4"
  },
  "orig_nbformat": 4
 },
 "nbformat": 4,
 "nbformat_minor": 2
}
