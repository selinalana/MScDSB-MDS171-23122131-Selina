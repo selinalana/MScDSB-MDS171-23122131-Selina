{
 "cells": [
  {
   "cell_type": "code",
   "execution_count": 63,
   "metadata": {},
   "outputs": [],
   "source": [
    "word_dic = {0 : 'Zero', 1 : 'One', 2 : 'Two', 3 : 'Three', 4 : 'Four' , 5 : 'Five' , 6 : 'Six' , 7 : 'Seven' , 8 : 'Eight', 9 : \"Nine\"}\n",
    "\n",
    "def num_to_numword():\n",
    "    number = input(\"Enter a number: \")\n",
    "    print(number, end = \"\")\n",
    "    \n",
    "    for i in number:\n",
    "        print(word_dic[int(i)], end = \"\")"
   ]
  },
  {
   "cell_type": "code",
   "execution_count": 64,
   "metadata": {},
   "outputs": [
    {
     "name": "stdout",
     "output_type": "stream",
     "text": [
      "67SixSeven"
     ]
    }
   ],
   "source": [
    "num_to_numword()"
   ]
  },
  {
   "cell_type": "code",
   "execution_count": null,
   "metadata": {},
   "outputs": [],
   "source": []
  }
 ],
 "metadata": {
  "kernelspec": {
   "display_name": "Python 3",
   "language": "python",
   "name": "python3"
  },
  "language_info": {
   "codemirror_mode": {
    "name": "ipython",
    "version": 3
   },
   "file_extension": ".py",
   "mimetype": "text/x-python",
   "name": "python",
   "nbconvert_exporter": "python",
   "pygments_lexer": "ipython3",
   "version": "3.11.4"
  },
  "orig_nbformat": 4
 },
 "nbformat": 4,
 "nbformat_minor": 2
}
