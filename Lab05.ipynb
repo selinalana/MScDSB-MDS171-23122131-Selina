{
 "cells": [
  {
   "cell_type": "code",
   "execution_count": 1,
   "metadata": {},
   "outputs": [
    {
     "name": "stdout",
     "output_type": "stream",
     "text": [
      "String: Write a program for collecting a string from the user \n",
      "\n",
      "The total number of vowels are 15\n",
      "The length of the string is 53\n",
      "The total number of vowel A is 3\n",
      "The total number of vowel E is 4\n",
      "The total number of vowel I is 3\n",
      "The total number of vowel O is 4\n",
      "The total number of vowel U is 1\n",
      "The percentage of vowels in the given string is 28.30188679245283 %\n"
     ]
    }
   ],
   "source": [
    "string = input(\"Enter a string\")\n",
    "\n",
    "\n",
    "def string_vowel(word):\n",
    "\n",
    "    word = word.strip() # to remove the  leading and trailing whitespaces\n",
    "    word = word.upper()\n",
    "    length = len(word)\n",
    "    count =0\n",
    "    A_count = 0\n",
    "    E_count = 0\n",
    "    I_count = 0\n",
    "    O_count = 0\n",
    "    U_count = 0\n",
    "\n",
    "    for i in range(length):\n",
    "        if(word[i] == \"A\" or word[i] == \"E\" or word[i] == \"I\" or word[i] == \"O\" or word[i] == \"U\" ):\n",
    "            count = count+1\n",
    "\n",
    "\n",
    "    for j in range(length): \n",
    "        if word[j] == \"A\":\n",
    "            A_count =   A_count + 1\n",
    "        elif word[j] == \"E\":\n",
    "            E_count =   E_count + 1\n",
    "        elif word[j] == \"I\":\n",
    "            I_count =   I_count + 1\n",
    "        elif word[j] == \"O\":\n",
    "            O_count =   O_count + 1\n",
    "        elif word[j] == \"U\":\n",
    "            U_count =   U_count + 1\n",
    "\n",
    "    per = float(count/length)*100\n",
    "\n",
    "    return word,length,count,A_count,E_count,I_count,O_count,U_count,per\n",
    "\n",
    "\n",
    "\n",
    "print(\"String:\", string,'\\n')\n",
    "word,length,count,A_count,E_count,I_count,O_count,U_count,per= string_vowel(string)\n",
    "print(\"The total number of vowels are\", count)\n",
    "print(\"The length of the string is\", length)\n",
    "print(\"The total number of vowel A is\", A_count)\n",
    "print(\"The total number of vowel E is\", E_count)\n",
    "print(\"The total number of vowel I is\", I_count)\n",
    "print(\"The total number of vowel O is\", O_count)\n",
    "print(\"The total number of vowel U is\", U_count)\n",
    "print(\"The percentage of vowels in the given string is\", per,\"%\")\n",
    "\n",
    "\n"
   ]
  },
  {
   "cell_type": "code",
   "execution_count": null,
   "metadata": {},
   "outputs": [],
   "source": []
  }
 ],
 "metadata": {
  "kernelspec": {
   "display_name": "Python 3",
   "language": "python",
   "name": "python3"
  },
  "language_info": {
   "codemirror_mode": {
    "name": "ipython",
    "version": 3
   },
   "file_extension": ".py",
   "mimetype": "text/x-python",
   "name": "python",
   "nbconvert_exporter": "python",
   "pygments_lexer": "ipython3",
   "version": "3.11.4"
  },
  "orig_nbformat": 4
 },
 "nbformat": 4,
 "nbformat_minor": 2
}
