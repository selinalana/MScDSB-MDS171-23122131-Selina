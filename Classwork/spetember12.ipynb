{
 "cells": [
  {
   "cell_type": "markdown",
   "metadata": {},
   "source": [
    "Dictionaries"
   ]
  },
  {
   "cell_type": "code",
   "execution_count": 8,
   "metadata": {},
   "outputs": [],
   "source": [
    "my_dict = {\n",
    "     \"Name\": \"Selina Lana\",\n",
    "     \"Phone\": \" 8787592203 \" ,\n",
    "     \"email\": \"lanaselina5@gmail.com\"\n",
    "     }"
   ]
  },
  {
   "cell_type": "code",
   "execution_count": 10,
   "metadata": {},
   "outputs": [
    {
     "name": "stdout",
     "output_type": "stream",
     "text": [
      "Selina Lana\n"
     ]
    }
   ],
   "source": [
    "print(my_dict['Name'])"
   ]
  },
  {
   "cell_type": "code",
   "execution_count": 11,
   "metadata": {},
   "outputs": [
    {
     "name": "stdout",
     "output_type": "stream",
     "text": [
      "selinalana10@gmail.com\n"
     ]
    }
   ],
   "source": [
    "my_dict['email']=\"selinalana10@gmail.com\"\n",
    "print(my_dict[\"email\"])"
   ]
  },
  {
   "cell_type": "code",
   "execution_count": 12,
   "metadata": {},
   "outputs": [
    {
     "name": "stdout",
     "output_type": "stream",
     "text": [
      "{'Name': 'Selina Lana', 'Phone': ' 8787592203 ', 'email': 'selinalana10@gmail.com'}\n"
     ]
    }
   ],
   "source": [
    "print(my_dict)"
   ]
  },
  {
   "cell_type": "code",
   "execution_count": 13,
   "metadata": {},
   "outputs": [
    {
     "name": "stdout",
     "output_type": "stream",
     "text": [
      "{'Name': 'Selina Lana', 'Phone': ' 8787592203 ', 'email': 'selinalana10@gmail.com', 'Adress': 'Lavasa'}\n"
     ]
    }
   ],
   "source": [
    "my_dict[\"Adress\"]= \"Lavasa\"\n",
    "print(my_dict)"
   ]
  },
  {
   "cell_type": "code",
   "execution_count": 14,
   "metadata": {},
   "outputs": [
    {
     "data": {
      "text/plain": [
       "dict_keys(['Name', 'Phone', 'email', 'Adress'])"
      ]
     },
     "execution_count": 14,
     "metadata": {},
     "output_type": "execute_result"
    }
   ],
   "source": [
    "my_dict.keys()"
   ]
  },
  {
   "cell_type": "code",
   "execution_count": 15,
   "metadata": {},
   "outputs": [
    {
     "data": {
      "text/plain": [
       "dict_values(['Selina Lana', ' 8787592203 ', 'selinalana10@gmail.com', 'Lavasa'])"
      ]
     },
     "execution_count": 15,
     "metadata": {},
     "output_type": "execute_result"
    }
   ],
   "source": [
    "my_dict.values()"
   ]
  },
  {
   "cell_type": "code",
   "execution_count": 17,
   "metadata": {},
   "outputs": [
    {
     "name": "stdout",
     "output_type": "stream",
     "text": [
      "dict_keys(['Name', 'Phone', 'email', 'Adress'])\n",
      "Name\n",
      "Phone\n",
      "email\n",
      "Adress\n"
     ]
    }
   ],
   "source": [
    "print(my_dict.keys())\n",
    "for key in my_dict.keys():\n",
    "    print(key)"
   ]
  },
  {
   "cell_type": "code",
   "execution_count": 19,
   "metadata": {},
   "outputs": [
    {
     "name": "stdout",
     "output_type": "stream",
     "text": [
      "Selina\n",
      "Tanuja\n",
      " Lingesh\n",
      " kingsuk\n"
     ]
    }
   ],
   "source": [
    "students= {\n",
    "    \"Names\": ['Selina', 'Tanuja',' Lingesh',' kingsuk'] ,\n",
    "    \"Rollno\" :['131 ', '149' , '126' , '122'] \n",
    "\n",
    "}\n",
    "for name in students[\"Names\"]:\n",
    "    print(name)"
   ]
  },
  {
   "cell_type": "code",
   "execution_count": 23,
   "metadata": {},
   "outputs": [
    {
     "name": "stdout",
     "output_type": "stream",
     "text": [
      " Lingesh\n"
     ]
    }
   ],
   "source": [
    "print(students['Names'][2])"
   ]
  },
  {
   "cell_type": "code",
   "execution_count": 27,
   "metadata": {},
   "outputs": [
    {
     "name": "stdout",
     "output_type": "stream",
     "text": [
      "Tanuja\n"
     ]
    }
   ],
   "source": [
    "msdsb =[\n",
    "{\n",
    "    \"Rollno \": 1,\n",
    "    \"Name\" : \"Selina\" ,\n",
    "    \"email\" : \"selinalana10@gmail.com\" ,\n",
    "    \"Phone\" : 8787591069\n",
    "} ,\n",
    "{\n",
    "    \"Rollno \": 2,\n",
    "    \"Name\" : \"Tanuja\" ,\n",
    "    \"email\" : \"tanu10@gmail.com\" ,\n",
    "    \"Phone\" : 987591069\n",
    "} ,\n",
    "{\n",
    "    \"Rollno \": 3,\n",
    "    \"Name\" : \"Falak\" ,\n",
    "    \"email\" : \"falakansari@gmail.com\" ,\n",
    "    \"Phone\" : 9436111190\n",
    "}\n",
    "]\n",
    "print(msdsb[1][\"Name\"])\n"
   ]
  },
  {
   "cell_type": "code",
   "execution_count": 29,
   "metadata": {},
   "outputs": [
    {
     "name": "stdout",
     "output_type": "stream",
     "text": [
      "{'Rollno ': 1, 'Name': 'Selina', 'email': 'selinalana10@gmail.com', 'Phone': 8787591069}\n",
      "1\tSelina\tselinalana10@gmail.com\t8787591069\t\n",
      "{'Rollno ': 2, 'Name': 'Tanuja', 'email': 'tanu10@gmail.com', 'Phone': 987591069}\n",
      "2\tTanuja\ttanu10@gmail.com\t987591069\t\n",
      "{'Rollno ': 3, 'Name': 'Falak', 'email': 'falakansari@gmail.com', 'Phone': 9436111190}\n",
      "3\tFalak\tfalakansari@gmail.com\t9436111190\t\n"
     ]
    }
   ],
   "source": [
    "for students in msdsb:\n",
    "    print(students)\n",
    "    for key in students.keys():\n",
    "        print(students[key],end='\\t')\n",
    "    print()"
   ]
  }
 ],
 "metadata": {
  "kernelspec": {
   "display_name": "Python 3",
   "language": "python",
   "name": "python3"
  },
  "language_info": {
   "codemirror_mode": {
    "name": "ipython",
    "version": 3
   },
   "file_extension": ".py",
   "mimetype": "text/x-python",
   "name": "python",
   "nbconvert_exporter": "python",
   "pygments_lexer": "ipython3",
   "version": "3.11.4"
  },
  "orig_nbformat": 4
 },
 "nbformat": 4,
 "nbformat_minor": 2
}
