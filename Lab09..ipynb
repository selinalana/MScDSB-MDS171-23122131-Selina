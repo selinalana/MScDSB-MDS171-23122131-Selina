{
  "cells": [
    {
      "cell_type": "markdown",
      "metadata": {},
      "source": [
        "create a petstore class where you have the details of pets available and their details.\n",
        "The class will have methods\n",
        "-store a new pet details\n",
        "-search for a pet\n",
        "-sell a pet\n",
        "-list all pets\n",
        "\n",
        "importing your petstore class,create a petstore class,create a petstore file,where you will implement a menu driven program for admin- who will manage the store & user who will see the pets and buy pets."
      ]
    },
    {
      "cell_type": "code",
      "execution_count": 11,
      "metadata": {},
      "outputs": [],
      "source": [
        "class petstore():\n",
        "    def __init__(self):\n",
        "        self.pet=[]\n",
        "    \n",
        "    def add_pet(self,name,age, breed,price):\n",
        "        pet = {\n",
        "         'name' : name,\n",
        "         'age': age,\n",
        "         'breed':breed,\n",
        "         'price':price\n",
        "\n",
        "        }\n",
        "        self.pet.append(pet)\n",
        "\n",
        "    def search_pet(self,name):\n",
        "        for pet in self.pet:\n",
        "            if pet[\"name\"]==name:\n",
        "                print (pet)\n",
        "            else:\n",
        "                print(\"Pet not found\")\n",
        "\n",
        "    def list_pet(self):\n",
        "        if self.pet:\n",
        "            print(self.pet)\n",
        "        else:\n",
        "            print(\"There are no pets available\")\n",
        "        \n",
        "    def remove_pet(self,name):\n",
        "        for pet in self.pet:\n",
        "            if pet[\"name\"]==name:\n",
        "                self.pet.remove(pet)\n",
        "                print(f\"{pet}the pet has been removed\")\n",
        "            else:\n",
        "                print(\"dose not exist in the store\")\n"
      ]
    },
    {
      "cell_type": "code",
      "execution_count": 13,
      "metadata": {},
      "outputs": [
        {
          "ename": "ModuleNotFoundError",
          "evalue": "No module named 'petstore'",
          "output_type": "error",
          "traceback": [
            "\u001b[1;31m---------------------------------------------------------------------------\u001b[0m",
            "\u001b[1;31mModuleNotFoundError\u001b[0m                       Traceback (most recent call last)",
            "Cell \u001b[1;32mIn[13], line 1\u001b[0m\n\u001b[1;32m----> 1\u001b[0m \u001b[39mimport\u001b[39;00m \u001b[39mpetstore\u001b[39;00m\n\u001b[0;32m      2\u001b[0m pt\u001b[39m=\u001b[39mpetstore\u001b[39m.\u001b[39mpetstore()\n\u001b[0;32m      4\u001b[0m \u001b[39mwhile\u001b[39;00m(\u001b[39mTrue\u001b[39;00m):\n",
            "\u001b[1;31mModuleNotFoundError\u001b[0m: No module named 'petstore'"
          ]
        }
      ],
      "source": [
        "import petstore\n",
        "pt=petstore.petstore()\n",
        "\n",
        "while(True):\n",
        "    print(\"\\nOptions:\")\n",
        "    print(\"1. Add Pet\")\n",
        "    print(\"2. List pet\") \n",
        "    print(\"3. Search pet\")\n",
        "    print(\"4. Sell pet\")\n",
        "    print(\"5. Quit\")\n",
        "\n",
        "    choice=input(\"Enter your choice\")\n",
        "    if choice==\"1\":\n",
        "        name= input (\"enter the pet name\")\n",
        "        age=input (\"enter the age of the pet\")\n",
        "        breed=input (\"enter the breed of the pet\")\n",
        "        price =input(\"enter the price of the pet\")\n",
        "        pt.add_pet(name,age,breed,price)\n",
        "        print(\"Details has been entred\")\n",
        "    elif choice==\"2\":\n",
        "        pt.list_pet()\n",
        "        print(pt)\n",
        "    elif choice==\"3\":\n",
        "        name=input(\"enter the name to be search\")\n",
        "        pt.search_pet(name)\n",
        "    elif choice==\"4\":\n",
        "        name=input(\"enter the name to be search\")\n",
        "        pt.remove_pet(name)\n",
        "    elif choice == \"5\":\n",
        "        break\n",
        "    else:\n",
        "        print(\"Invalid choice. Please try again.\")"
      ]
    }
  ],
  "metadata": {
    "kernelspec": {
      "display_name": "Python 3",
      "language": "python",
      "name": "python3"
    },
    "language_info": {
      "codemirror_mode": {
        "name": "ipython",
        "version": 3
      },
      "file_extension": ".py",
      "mimetype": "text/x-python",
      "name": "python",
      "nbconvert_exporter": "python",
      "pygments_lexer": "ipython3",
      "version": "3.11.4"
    },
    "orig_nbformat": 4
  },
  "nbformat": 4,
  "nbformat_minor": 2
}
