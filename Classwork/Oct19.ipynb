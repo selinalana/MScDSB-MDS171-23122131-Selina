{
 "cells": [
  {
   "cell_type": "markdown",
   "metadata": {},
   "source": [
    "Write a python program with the following specification there will be a function name create dataset which will take a dictionary, file name, number of rows as arguments . your function will select random values for each of the domains and create a row for you. The number of rows that has to be created is a parameter save the file with the required number of rows Load this dataset using pandas and display basic details which includes the head, shape,"
   ]
  },
  {
   "cell_type": "code",
   "execution_count": 1,
   "metadata": {},
   "outputs": [
    {
     "name": "stdout",
     "output_type": "stream",
     "text": [
      "Basic Details of the Dataset:\n",
      "   ID  Temperature   Name\n",
      "0  99    53.552642  zmqHI\n",
      "1   7    45.023166  uBMhW\n",
      "2  97    33.110158  fBoHM\n",
      "3  33     7.824946  zcHfT\n",
      "4  89    16.402387  rznJF\n",
      "\n",
      "Number of Rows: 10\n",
      "Features (Columns): ['ID', 'Temperature', 'Name']\n"
     ]
    }
   ],
   "source": [
    "import pandas as pd\n",
    "import random\n",
    "import string\n",
    "\n",
    "# Function to generate random data based on the provided domains\n",
    "def create_dataset(data_dict, file_name, num_rows):\n",
    "    # Create an empty dictionary to store the generated data\n",
    "    generated_data = {}\n",
    "    \n",
    "    # Generate random data for each domain\n",
    "    for key, domain in data_dict.items():\n",
    "        if domain == \"int\":\n",
    "            generated_data[key] = [random.randint(1, 100) for _ in range(num_rows)]\n",
    "        elif domain == \"float\":\n",
    "            generated_data[key] = [random.uniform(1.0, 100.0) for _ in range(num_rows)]\n",
    "        elif domain == \"string\":\n",
    "            generated_data[key] = [''.join(random.choice(string.ascii_letters) for _ in range(5)) for _ in range(num_rows)]\n",
    "    \n",
    "    # Create a Pandas DataFrame from the generated data\n",
    "    df = pd.DataFrame(generated_data)\n",
    "    \n",
    "    # Save the dataset to a CSV file\n",
    "    df.to_csv(file_name, index=False)\n",
    "\n",
    "# Sample data dictionary with domains\n",
    "data_dict = {\n",
    "    'ID': 'int',\n",
    "    'Temperature': 'float',\n",
    "    'Name': 'string'\n",
    "}\n",
    "\n",
    "# Number of rows to be created\n",
    "num_rows = 10\n",
    "\n",
    "# Name of the output file\n",
    "file_name = 'generated_dataset.csv'\n",
    "\n",
    "# Create the dataset and save it to a file\n",
    "create_dataset(data_dict, file_name, num_rows)\n",
    "\n",
    "# Load the dataset using Pandas\n",
    "loaded_data = pd.read_csv(file_name)\n",
    "\n",
    "# Display basic details of the loaded dataset\n",
    "print(\"Basic Details of the Dataset:\")\n",
    "print(loaded_data.head())\n",
    "print(\"\\nNumber of Rows:\", len(loaded_data))\n",
    "print(\"Features (Columns):\", loaded_data.columns.tolist())"
   ]
  }
 ],
 "metadata": {
  "kernelspec": {
   "display_name": "Python 3",
   "language": "python",
   "name": "python3"
  },
  "language_info": {
   "codemirror_mode": {
    "name": "ipython",
    "version": 3
   },
   "file_extension": ".py",
   "mimetype": "text/x-python",
   "name": "python",
   "nbconvert_exporter": "python",
   "pygments_lexer": "ipython3",
   "version": "3.11.4"
  }
 },
 "nbformat": 4,
 "nbformat_minor": 2
}
