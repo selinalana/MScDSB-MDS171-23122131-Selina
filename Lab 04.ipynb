{
 "cells": [
  {
   "cell_type": "code",
   "execution_count": 11,
   "metadata": {},
   "outputs": [
    {
     "data": {
      "text/plain": [
       "True"
      ]
     },
     "execution_count": 11,
     "metadata": {},
     "output_type": "execute_result"
    }
   ],
   "source": [
    "def GSMS(customer_name , order_date , order , rate , quantity , guestcount):\n",
    "    with open(\"RMS.txt\", \"a+\") as file:\n",
    "        file.write(\"\\nName = \"+customer_name)\n",
    "        file.write(\"\\nDate = \"+order_date)\n",
    "        file.write(\"\\nItem Code = \"+order)\n",
    "        file.write(\"\\nQuantity = \"+str(quantity))\n",
    "        file.write(\"\\nRate = \"+str(rate))\n",
    "        file.write(\"\\nGuestCount = \"+guestcount)\n",
    "        file.write(\"\\n-----------------------------------------------------------------------------------------------------------\")\n",
    "    return True\n",
    "customer_name = input(\"Enter the Name here:\")\n",
    "order_date = input(\"Enter the date:\")\n",
    "order = input(\"Enter the item here: \")\n",
    "initial_rate = int(input(\"Enter the rate of the item:\"))\n",
    "quantity = int(input(\"Enter the quantity of the item\"))\n",
    "count = input(\"Enter the Guest Count:\")\n",
    "GSMS(customer_name,order_date,order,initial_rate,quantity,count)"
   ]
  },
  {
   "cell_type": "code",
   "execution_count": 12,
   "metadata": {},
   "outputs": [
    {
     "name": "stdout",
     "output_type": "stream",
     "text": [
      "The total amount obtained in this day =  20\n",
      "The total Guest obtained in this day =  2\n"
     ]
    }
   ],
   "source": [
    " #analysis\n",
    "salescount = 0\n",
    "with open(\"RMS.txt\" , \"r+\") as file :\n",
    "    for line in file:\n",
    "        if \"Rate\" in line:\n",
    "            \n",
    "            Rate = int(line.split(\"=\")[1].strip())\n",
    "            salescount += Rate\n",
    "print(\"The total amount obtained in this day = \" , salescount)\n",
    "    # print(\"The total amount of guests per day: \" , salescount)\n",
    "#analysis\n",
    "salescount = 0\n",
    "with open(\"RMS.txt\" , \"r+\") as file :\n",
    "    for line in file:\n",
    "        if \"GuestCount\" in line:\n",
    "            \n",
    "            Rate = int(line.split(\"=\")[1].strip())\n",
    "            salescount += Rate\n",
    "print(\"The total Guest obtained in this day = \" , salescount)\n",
    "    # print(\"The total amount of guests per day: \" , salescount)\n"
   ]
  }
 ],
 "metadata": {
  "kernelspec": {
   "display_name": "Python 3",
   "language": "python",
   "name": "python3"
  },
  "language_info": {
   "codemirror_mode": {
    "name": "ipython",
    "version": 3
   },
   "file_extension": ".py",
   "mimetype": "text/x-python",
   "name": "python",
   "nbconvert_exporter": "python",
   "pygments_lexer": "ipython3",
   "version": "3.11.4"
  },
  "orig_nbformat": 4
 },
 "nbformat": 4,
 "nbformat_minor": 2
}
